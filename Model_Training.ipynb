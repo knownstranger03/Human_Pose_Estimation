{
 "cells": [
  {
   "cell_type": "markdown",
   "metadata": {},
   "source": [
    "# Human Pose Estimation sec - 1.1\n",
    "\n",
    "This is a Notebook coded on Google Colab\n",
    "\n",
    "* This notebook is used to:\n",
    "      - Load Custom Created functions\n",
    "      - Load pre-defined model architecture\n",
    "      - Load data from pre-defined pipelines\n",
    "      - Train the model with 50 epochs on colab with GPU\n",
    "      - A callback is defined to save the best model"
   ]
  },
  {
   "cell_type": "code",
   "execution_count": null,
   "metadata": {},
   "outputs": [],
   "source": [
    "#Moving the data files from drive to current runtime, inorder to solve any bottleneck problems\n",
    "# !cp drive/My\\ Drive/Colab\\ Notebooks/File.zip  file.zip\n",
    "# !unzip file.zip\n",
    "# !cp ../model.h5 ../content/drive/My Drive/Colab Notebooks"
   ]
  },
  {
   "cell_type": "code",
   "execution_count": 2,
   "metadata": {},
   "outputs": [
    {
     "name": "stderr",
     "output_type": "stream",
     "text": [
      "Using TensorFlow backend.\n"
     ]
    }
   ],
   "source": [
    "#Change the working directory\n",
    "import os\n",
    "os.chdir('Custom_Functions/')\n",
    "#Import all necessary libraries\n",
    "import pandas as pd, numpy as np, tensorflow\n",
    "from tensorflow.keras.losses import MSE as mse\n",
    "from tensorflow.keras.callbacks import ModelCheckpoint as mc\n",
    "#Importint the custome functions that returns the data\n",
    "from Data_prep import prep\n",
    "from Model_Generator import run\n",
    "from Metrics import coeff_determination, optimizer"
   ]
  },
  {
   "cell_type": "code",
   "execution_count": null,
   "metadata": {},
   "outputs": [],
   "source": [
    "#Loading the action_joints dataset only to use the df.shape as output shape for our model\n",
    "df = pd.read_csv('../Data/Action_Dataset/action_joints.csv')\n",
    "df.columns= list(range(df.shape[1]))\n",
    "\n",
    "Train, Validation, Test = prep() #Returns data pipelines from the custom function\n",
    "model=run() #Returns the untrained model architecture"
   ]
  },
  {
   "cell_type": "code",
   "execution_count": null,
   "metadata": {},
   "outputs": [],
   "source": [
    "adam=optimizer() #loads cutomized adam optimizer from the function\n",
    "metrics=[coeff_determination] #using the custom R2 metric\n",
    "model.compile(optimizer= optimizer, loss=mse,  metrics=metrics)\n",
    "#Creating a callback to help save 'best model only'\n",
    "mcp=mc('../Custom_Models/Keras_Models_H5/final_model.h5', monitor='val_coeff_determination', patience=10, save_best_only=True, \n",
    "       mode= 'max', baseline=None, restore_best_weights=True)\n",
    "#The best model is automatically saved at the given location\n",
    "\n",
    "'''Fit the model with data to enable training.. on Colab with GPU, this takes 35 minutes to run 50 epochs\n",
    "and return train r2 of 96.32 and val r2 of 92.13'''\n",
    "model.fit(Train, validation_data=Validation, epochs=50, callbacks=[mcp], \n",
    "          steps_per_epoch= Train.samples//batch_size,\n",
    "          validation_steps= Validation.samples//df.shape[0])"
   ]
  },
  {
   "cell_type": "markdown",
   "metadata": {},
   "source": [
    "# The Final Keypoints predition model can be loaded to run predictions directly or linked to a WebApplication or API\n",
    "\n",
    "* I further used this model to predict keypoints and serve as input to my [Hello/Namaste] classification model in sec 1.4 where I try to predict Hello/Namaste from live webcam feed."
   ]
  },
  {
   "cell_type": "code",
   "execution_count": 3,
   "metadata": {},
   "outputs": [],
   "source": [
    "from Model_Generator import run2\n",
    "from Data_prep import prep2\n",
    "import tensorflow\n",
    "from tensorflow.keras import regularizers"
   ]
  },
  {
   "cell_type": "code",
   "execution_count": 4,
   "metadata": {},
   "outputs": [
    {
     "name": "stdout",
     "output_type": "stream",
     "text": [
      "Model is saved to '/Untrained_Classification_Model.h5'\n",
      "WARNING:tensorflow:No training configuration found in the save file, so the model was *not* compiled. Compile it manually.\n"
     ]
    }
   ],
   "source": [
    "model=run2()\n",
    "X_Train, Y_Train, X_Val, Y_Val, transformer = prep2()"
   ]
  },
  {
   "cell_type": "code",
   "execution_count": 8,
   "metadata": {
    "collapsed": true
   },
   "outputs": [
    {
     "name": "stdout",
     "output_type": "stream",
     "text": [
      "Epoch 1/50\n",
      "1/1 [==============================] - 0s 207ms/step - loss: 0.0145 - accuracy: 1.0000 - val_loss: 0.5271 - val_accuracy: 0.6667\n",
      "Epoch 2/50\n",
      "1/1 [==============================] - 0s 60ms/step - loss: 0.0171 - accuracy: 1.0000 - val_loss: 0.5344 - val_accuracy: 0.6667\n",
      "Epoch 3/50\n",
      "1/1 [==============================] - 0s 99ms/step - loss: 0.0150 - accuracy: 1.0000 - val_loss: 0.2427 - val_accuracy: 1.0000\n",
      "Epoch 4/50\n",
      "1/1 [==============================] - 0s 82ms/step - loss: 0.0137 - accuracy: 1.0000 - val_loss: 0.1478 - val_accuracy: 1.0000\n",
      "Epoch 5/50\n",
      "1/1 [==============================] - 0s 82ms/step - loss: 0.0138 - accuracy: 1.0000 - val_loss: 0.1126 - val_accuracy: 1.0000\n",
      "Epoch 6/50\n",
      "1/1 [==============================] - 0s 45ms/step - loss: 0.0135 - accuracy: 1.0000 - val_loss: 0.1373 - val_accuracy: 1.0000\n",
      "Epoch 7/50\n",
      "1/1 [==============================] - 0s 43ms/step - loss: 0.0131 - accuracy: 1.0000 - val_loss: 0.3052 - val_accuracy: 1.0000\n",
      "Epoch 8/50\n",
      "1/1 [==============================] - 0s 42ms/step - loss: 0.0129 - accuracy: 1.0000 - val_loss: 0.5206 - val_accuracy: 0.6667\n",
      "Epoch 9/50\n",
      "1/1 [==============================] - 0s 42ms/step - loss: 0.0127 - accuracy: 1.0000 - val_loss: 0.6429 - val_accuracy: 0.6667\n",
      "Epoch 10/50\n",
      "1/1 [==============================] - 0s 44ms/step - loss: 0.0124 - accuracy: 1.0000 - val_loss: 0.7774 - val_accuracy: 0.6667\n",
      "Epoch 11/50\n",
      "1/1 [==============================] - 0s 48ms/step - loss: 0.0124 - accuracy: 1.0000 - val_loss: 0.5808 - val_accuracy: 0.6667\n",
      "Epoch 12/50\n",
      "1/1 [==============================] - 0s 67ms/step - loss: 0.0121 - accuracy: 1.0000 - val_loss: 0.4121 - val_accuracy: 0.6667\n",
      "Epoch 13/50\n",
      "1/1 [==============================] - 0s 55ms/step - loss: 0.0119 - accuracy: 1.0000 - val_loss: 0.2813 - val_accuracy: 1.0000\n",
      "Epoch 14/50\n",
      "1/1 [==============================] - 0s 58ms/step - loss: 0.0115 - accuracy: 1.0000 - val_loss: 0.2035 - val_accuracy: 1.0000\n",
      "Epoch 15/50\n",
      "1/1 [==============================] - 0s 47ms/step - loss: 0.0114 - accuracy: 1.0000 - val_loss: 0.1675 - val_accuracy: 1.0000\n",
      "Epoch 16/50\n",
      "1/1 [==============================] - 0s 41ms/step - loss: 0.0127 - accuracy: 1.0000 - val_loss: 0.1906 - val_accuracy: 1.0000\n",
      "Epoch 17/50\n",
      "1/1 [==============================] - 0s 41ms/step - loss: 0.0110 - accuracy: 1.0000 - val_loss: 0.2486 - val_accuracy: 1.0000\n",
      "Epoch 18/50\n",
      "1/1 [==============================] - 0s 50ms/step - loss: 0.0114 - accuracy: 1.0000 - val_loss: 0.2962 - val_accuracy: 1.0000\n",
      "Epoch 19/50\n",
      "1/1 [==============================] - 0s 59ms/step - loss: 0.0117 - accuracy: 1.0000 - val_loss: 0.3344 - val_accuracy: 1.0000\n",
      "Epoch 20/50\n",
      "1/1 [==============================] - 0s 50ms/step - loss: 0.0105 - accuracy: 1.0000 - val_loss: 0.3214 - val_accuracy: 1.0000\n",
      "Epoch 21/50\n",
      "1/1 [==============================] - 0s 49ms/step - loss: 0.0101 - accuracy: 1.0000 - val_loss: 0.3272 - val_accuracy: 1.0000\n",
      "Epoch 22/50\n",
      "1/1 [==============================] - 0s 41ms/step - loss: 0.0111 - accuracy: 1.0000 - val_loss: 0.4521 - val_accuracy: 0.6667\n",
      "Epoch 23/50\n",
      "1/1 [==============================] - 0s 42ms/step - loss: 0.0099 - accuracy: 1.0000 - val_loss: 0.5139 - val_accuracy: 0.6667\n",
      "Epoch 24/50\n",
      "1/1 [==============================] - 0s 44ms/step - loss: 0.0099 - accuracy: 1.0000 - val_loss: 0.4910 - val_accuracy: 0.6667\n",
      "Epoch 25/50\n",
      "1/1 [==============================] - 0s 43ms/step - loss: 0.0099 - accuracy: 1.0000 - val_loss: 0.3750 - val_accuracy: 1.0000\n",
      "Epoch 26/50\n",
      "1/1 [==============================] - 0s 49ms/step - loss: 0.0099 - accuracy: 1.0000 - val_loss: 0.2312 - val_accuracy: 1.0000\n",
      "Epoch 27/50\n",
      "1/1 [==============================] - 0s 55ms/step - loss: 0.0092 - accuracy: 1.0000 - val_loss: 0.1677 - val_accuracy: 1.0000\n",
      "Epoch 28/50\n",
      "1/1 [==============================] - 0s 59ms/step - loss: 0.0089 - accuracy: 1.0000 - val_loss: 0.1346 - val_accuracy: 1.0000\n",
      "Epoch 29/50\n",
      "1/1 [==============================] - 0s 51ms/step - loss: 0.0088 - accuracy: 1.0000 - val_loss: 0.1196 - val_accuracy: 1.0000\n",
      "Epoch 30/50\n",
      "1/1 [==============================] - 0s 50ms/step - loss: 0.0091 - accuracy: 1.0000 - val_loss: 0.1190 - val_accuracy: 1.0000\n",
      "Epoch 31/50\n",
      "1/1 [==============================] - 0s 49ms/step - loss: 0.0085 - accuracy: 1.0000 - val_loss: 0.1277 - val_accuracy: 1.0000\n",
      "Epoch 32/50\n",
      "1/1 [==============================] - 0s 54ms/step - loss: 0.0092 - accuracy: 1.0000 - val_loss: 0.1531 - val_accuracy: 1.0000\n",
      "Epoch 33/50\n",
      "1/1 [==============================] - 0s 46ms/step - loss: 0.0083 - accuracy: 1.0000 - val_loss: 0.1917 - val_accuracy: 1.0000\n",
      "Epoch 34/50\n",
      "1/1 [==============================] - 0s 59ms/step - loss: 0.0086 - accuracy: 1.0000 - val_loss: 0.2513 - val_accuracy: 1.0000\n",
      "Epoch 35/50\n",
      "1/1 [==============================] - 0s 58ms/step - loss: 0.0082 - accuracy: 1.0000 - val_loss: 0.3165 - val_accuracy: 1.0000\n",
      "Epoch 36/50\n",
      "1/1 [==============================] - 0s 61ms/step - loss: 0.0079 - accuracy: 1.0000 - val_loss: 0.3424 - val_accuracy: 1.0000\n",
      "Epoch 37/50\n",
      "1/1 [==============================] - 0s 47ms/step - loss: 0.0082 - accuracy: 1.0000 - val_loss: 0.2810 - val_accuracy: 1.0000\n",
      "Epoch 38/50\n",
      "1/1 [==============================] - 0s 44ms/step - loss: 0.0077 - accuracy: 1.0000 - val_loss: 0.2644 - val_accuracy: 1.0000\n",
      "Epoch 39/50\n",
      "1/1 [==============================] - 0s 48ms/step - loss: 0.0075 - accuracy: 1.0000 - val_loss: 0.2667 - val_accuracy: 1.0000\n",
      "Epoch 40/50\n",
      "1/1 [==============================] - 0s 57ms/step - loss: 0.0073 - accuracy: 1.0000 - val_loss: 0.2469 - val_accuracy: 1.0000\n",
      "Epoch 41/50\n",
      "1/1 [==============================] - 0s 44ms/step - loss: 0.0071 - accuracy: 1.0000 - val_loss: 0.2314 - val_accuracy: 1.0000\n",
      "Epoch 42/50\n",
      "1/1 [==============================] - 0s 43ms/step - loss: 0.0073 - accuracy: 1.0000 - val_loss: 0.2192 - val_accuracy: 1.0000\n",
      "Epoch 43/50\n",
      "1/1 [==============================] - 0s 50ms/step - loss: 0.0068 - accuracy: 1.0000 - val_loss: 0.1987 - val_accuracy: 1.0000\n",
      "Epoch 44/50\n",
      "1/1 [==============================] - 0s 47ms/step - loss: 0.0068 - accuracy: 1.0000 - val_loss: 0.1906 - val_accuracy: 1.0000\n",
      "Epoch 45/50\n",
      "1/1 [==============================] - 0s 43ms/step - loss: 0.0067 - accuracy: 1.0000 - val_loss: 0.2105 - val_accuracy: 1.0000\n",
      "Epoch 46/50\n",
      "1/1 [==============================] - 0s 42ms/step - loss: 0.0065 - accuracy: 1.0000 - val_loss: 0.2759 - val_accuracy: 1.0000\n",
      "Epoch 47/50\n",
      "1/1 [==============================] - 0s 40ms/step - loss: 0.0064 - accuracy: 1.0000 - val_loss: 0.4078 - val_accuracy: 0.6667\n",
      "Epoch 48/50\n",
      "1/1 [==============================] - 0s 59ms/step - loss: 0.0064 - accuracy: 1.0000 - val_loss: 0.4179 - val_accuracy: 0.6667\n",
      "Epoch 49/50\n",
      "1/1 [==============================] - 0s 51ms/step - loss: 0.0064 - accuracy: 1.0000 - val_loss: 0.3159 - val_accuracy: 1.0000\n",
      "Epoch 50/50\n",
      "1/1 [==============================] - 0s 48ms/step - loss: 0.0061 - accuracy: 1.0000 - val_loss: 0.2411 - val_accuracy: 1.0000\n",
      "CPU times: user 4.22 s, sys: 109 ms, total: 4.33 s\n",
      "Wall time: 4.03 s\n"
     ]
    },
    {
     "data": {
      "text/plain": [
       "<tensorflow.python.keras.callbacks.History at 0x7f33147c2e50>"
      ]
     },
     "execution_count": 8,
     "metadata": {},
     "output_type": "execute_result"
    }
   ],
   "source": [
    "%%time\n",
    "model.compile(optimizer='adam', loss='categorical_crossentropy', metrics=['accuracy']) \n",
    "mcp=mc('../Custom_Models/Keras_Model_H5/final_classification_model.h5',\n",
    "       monitor='val_loss', patience=20, save_best_only=True,\n",
    "       mode= 'min', restore_best_weights=True)\n",
    "'''Fit the model with data to enable training.. on local cpu runtime [core i5, 8gb ram, 8gb graphics],\n",
    "this takes 4 seconds to run 50 epochs and return train acc of 99.7 and val acc of 99.7, which is considered 100%'''\n",
    "model.fit(X_Train, Y_Train, validation_data =(X_Val, Y_Val), epochs=50, callbacks= [mcp])"
   ]
  }
 ],
 "metadata": {
  "kernelspec": {
   "display_name": "Python 3",
   "language": "python",
   "name": "python3"
  },
  "language_info": {
   "codemirror_mode": {
    "name": "ipython",
    "version": 3
   },
   "file_extension": ".py",
   "mimetype": "text/x-python",
   "name": "python",
   "nbconvert_exporter": "python",
   "pygments_lexer": "ipython3",
   "version": "3.7.6"
  }
 },
 "nbformat": 4,
 "nbformat_minor": 4
}
